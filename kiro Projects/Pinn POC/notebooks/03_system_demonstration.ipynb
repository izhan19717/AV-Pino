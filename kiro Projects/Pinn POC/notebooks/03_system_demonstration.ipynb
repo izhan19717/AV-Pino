{
    "cells": [
        {
            "cell_type": "markdown",
            "metadata": {},
            "source": [
                "# AV-PINO System Demonstration\n",
                "\n",
                "This notebook provides a comprehensive demonstration of all AV-PINO system capabilities, including:\n",
                "\n",
                "- Complete workflow from data to deployment\n",
                "- Physics constraint validation\n",
                "- Uncertainty quantification\n",
                "- Real-time inference\n",
                "- Technical report generation"
            ]
        },
        {
            "cell_type": "code",
            "execution_count": null,
            "metadata": {},
            "outputs": [],
            "source": [
                "# Import all required components\n",
                "import sys\n",
                "import os\n",
                "sys.path.append('../src')\n",
                "\n",
                "import numpy as np\n",
                "import matplotlib.pyplot as plt\n",
                "import torch\n",
                "from pathlib import Path\n",
                "import time\n",
                "\n",
                "# AV-PINO System Components\n",
                "from config.experiment_config import ExperimentManager\n",
                "from data.cwru_loader import CWRUDataLoader\n",
                "from data.preprocessor import DataPreprocessor\n",
                "from physics.feature_extractor import PhysicsFeatureExtractor\n",
                "from training.training_engine import TrainingEngine\n",
                "from inference.realtime_inference import RealTimeInference\n",
                "from validation.benchmarking_suite import BenchmarkingSuite\n",
                "from visualization.visualization_manager import VisualizationManager\n",
                "from reporting.technical_report_generator import TechnicalReportGenerator, create_sample_report\n",
                "\n",
                "print(\"🚀 AV-PINO System Demonstration\")\n",
                "print(\"=\" * 50)\n",
                "print(f\"PyTorch version: {torch.__version__}\")\n",
                "print(f\"CUDA available: {torch.cuda.is_available()}\")\n",
                "print(f\"Device: {'cuda' if torch.cuda.is_available() else 'cpu'}\")"
            ]
        },
        {
            "cell_type": "markdown",
            "metadata": {},
            "source": [
                "## 1. System Configuration and Setup"
            ]
        },
        {
            "cell_type": "code",
            "execution_count": null,
            "metadata": {},
            "outputs": [],
            "source": [
                "# Initialize experiment manager with reproducible settings\n",
                "config_manager = ExperimentManager()\n",
                "config = config_manager.create_default_config()\n",
                "\n",
                "# Customize for demonstration\n",
                "config.training[\"epochs\"] = 20  # Reduced for demo\n",
                "config.training[\"batch_size\"] = 16\n",
                "config.model[\"width\"] = 32\n",
                "config.model[\"modes\"] = 8\n",
                "\n",
                "# Setup reproducible experiment\n",
                "final_config = config_manager.setup_experiment()\n",
                "\n",
                "print(\"✅ Configuration Setup Complete\")\n",
                "print(f\"   Random seed: {final_config.reproducibility.seed}\")\n",
                "print(f\"   Model: {final_config.model['architecture']}\")\n",
                "print(f\"   Training epochs: {final_config.training['epochs']}\")\n",
    "print(f\"   Physic